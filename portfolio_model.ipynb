{
  "nbformat": 4,
  "nbformat_minor": 0,
  "metadata": {
    "colab": {
      "provenance": [],
      "authorship_tag": "ABX9TyOVYWAkSQc0fta/xWXWtDoU"
    },
    "kernelspec": {
      "name": "python3",
      "display_name": "Python 3"
    },
    "language_info": {
      "name": "python"
    },
    "accelerator": "GPU",
    "gpuClass": "standard"
  },
  "cells": [
    {
      "cell_type": "markdown",
      "source": [
        "#Set-up"
      ],
      "metadata": {
        "id": "MP1H4TNjKikq"
      }
    },
    {
      "cell_type": "code",
      "execution_count": null,
      "metadata": {
        "colab": {
          "base_uri": "https://localhost:8080/"
        },
        "id": "j1hEJWhA_hzH",
        "outputId": "512fa2c7-ad04-451e-abc1-b87d31ddfd39"
      },
      "outputs": [
        {
          "output_type": "stream",
          "name": "stdout",
          "text": [
            "Looking in indexes: https://pypi.org/simple, https://us-python.pkg.dev/colab-wheels/public/simple/\n",
            "Requirement already satisfied: yfinance in /usr/local/lib/python3.9/dist-packages (0.2.14)\n",
            "Requirement already satisfied: beautifulsoup4>=4.11.1 in /usr/local/lib/python3.9/dist-packages (from yfinance) (4.11.2)\n",
            "Requirement already satisfied: lxml>=4.9.1 in /usr/local/lib/python3.9/dist-packages (from yfinance) (4.9.2)\n",
            "Requirement already satisfied: pytz>=2022.5 in /usr/local/lib/python3.9/dist-packages (from yfinance) (2022.7.1)\n",
            "Requirement already satisfied: cryptography>=3.3.2 in /usr/local/lib/python3.9/dist-packages (from yfinance) (40.0.1)\n",
            "Requirement already satisfied: numpy>=1.16.5 in /usr/local/lib/python3.9/dist-packages (from yfinance) (1.22.4)\n",
            "Requirement already satisfied: pandas>=1.3.0 in /usr/local/lib/python3.9/dist-packages (from yfinance) (1.4.4)\n",
            "Requirement already satisfied: html5lib>=1.1 in /usr/local/lib/python3.9/dist-packages (from yfinance) (1.1)\n",
            "Requirement already satisfied: appdirs>=1.4.4 in /usr/local/lib/python3.9/dist-packages (from yfinance) (1.4.4)\n",
            "Requirement already satisfied: frozendict>=2.3.4 in /usr/local/lib/python3.9/dist-packages (from yfinance) (2.3.6)\n",
            "Requirement already satisfied: requests>=2.26 in /usr/local/lib/python3.9/dist-packages (from yfinance) (2.27.1)\n",
            "Requirement already satisfied: multitasking>=0.0.7 in /usr/local/lib/python3.9/dist-packages (from yfinance) (0.0.11)\n",
            "Requirement already satisfied: soupsieve>1.2 in /usr/local/lib/python3.9/dist-packages (from beautifulsoup4>=4.11.1->yfinance) (2.4)\n",
            "Requirement already satisfied: cffi>=1.12 in /usr/local/lib/python3.9/dist-packages (from cryptography>=3.3.2->yfinance) (1.15.1)\n",
            "Requirement already satisfied: six>=1.9 in /usr/local/lib/python3.9/dist-packages (from html5lib>=1.1->yfinance) (1.16.0)\n",
            "Requirement already satisfied: webencodings in /usr/local/lib/python3.9/dist-packages (from html5lib>=1.1->yfinance) (0.5.1)\n",
            "Requirement already satisfied: python-dateutil>=2.8.1 in /usr/local/lib/python3.9/dist-packages (from pandas>=1.3.0->yfinance) (2.8.2)\n",
            "Requirement already satisfied: idna<4,>=2.5 in /usr/local/lib/python3.9/dist-packages (from requests>=2.26->yfinance) (3.4)\n",
            "Requirement already satisfied: charset-normalizer~=2.0.0 in /usr/local/lib/python3.9/dist-packages (from requests>=2.26->yfinance) (2.0.12)\n",
            "Requirement already satisfied: certifi>=2017.4.17 in /usr/local/lib/python3.9/dist-packages (from requests>=2.26->yfinance) (2022.12.7)\n",
            "Requirement already satisfied: urllib3<1.27,>=1.21.1 in /usr/local/lib/python3.9/dist-packages (from requests>=2.26->yfinance) (1.26.15)\n",
            "Requirement already satisfied: pycparser in /usr/local/lib/python3.9/dist-packages (from cffi>=1.12->cryptography>=3.3.2->yfinance) (2.21)\n",
            "Colab only includes TensorFlow 2.x; %tensorflow_version has no effect.\n",
            "Found GPU at: /device:GPU:0\n"
          ]
        }
      ],
      "source": [
        "#Import libraries\n",
        "!pip install yfinance\n",
        "import yfinance as yf\n",
        "import requests\n",
        "\n",
        "import numpy as np\n",
        "import matplotlib.pyplot as plt\n",
        "import pandas as pd\n",
        "import datetime as dt\n",
        "\n",
        "from sklearn.model_selection import train_test_split\n",
        "\n",
        "#Check for GPU\n",
        "%tensorflow_version 2.x\n",
        "import tensorflow as tf\n",
        "device_name = tf.test.gpu_device_name()\n",
        "if device_name != '/device:GPU:0':\n",
        "  raise SystemError('GPU device not found')\n",
        "print('Found GPU at: {}'.format(device_name))"
      ]
    },
    {
      "cell_type": "markdown",
      "source": [
        "###Get Raw Data"
      ],
      "metadata": {
        "id": "KQiuT-9wKoGc"
      }
    },
    {
      "cell_type": "code",
      "source": [
        "ticker = 'AMD'\n",
        "intvl = '1d'\n",
        "start_date = \"2000-01-01\"\n",
        "end_date = \"2022-12-31\""
      ],
      "metadata": {
        "id": "85dC5dLXJTrT"
      },
      "execution_count": null,
      "outputs": []
    },
    {
      "cell_type": "code",
      "source": [
        "tick = yf.Ticker(ticker).history(start = start_date, end = end_date, interval = intvl)\n",
        "df = pd.DataFrame(tick)\n",
        "\n",
        "print(df.shape)\n",
        "print(df.describe())\n"
      ],
      "metadata": {
        "colab": {
          "base_uri": "https://localhost:8080/"
        },
        "id": "8iHe4VwCJoFj",
        "outputId": "2750c9df-b4bc-4a9f-ebf3-ca337967eab7"
      },
      "execution_count": null,
      "outputs": [
        {
          "output_type": "stream",
          "name": "stdout",
          "text": [
            "(5787, 7)\n",
            "              Open         High          Low        Close        Volume  \\\n",
            "count  5787.000000  5787.000000  5787.000000  5787.000000  5.787000e+03   \n",
            "mean     22.088134    22.566848    21.575293    22.072349  3.174962e+07   \n",
            "std      27.908354    28.486900    27.276332    27.888764  3.194700e+07   \n",
            "min       1.620000     1.690000     1.610000     1.620000  0.000000e+00   \n",
            "25%       5.690000     5.830000     5.530000     5.695000  1.066600e+07   \n",
            "50%      12.140000    12.360000    11.860000    12.120000  2.006610e+07   \n",
            "75%      23.990000    24.600000    23.255000    23.920000  4.154105e+07   \n",
            "max     163.279999   164.460007   156.100006   161.910004  3.250584e+08   \n",
            "\n",
            "       Dividends  Stock Splits  \n",
            "count     5787.0   5787.000000  \n",
            "mean         0.0      0.000346  \n",
            "std          0.0      0.026291  \n",
            "min          0.0      0.000000  \n",
            "25%          0.0      0.000000  \n",
            "50%          0.0      0.000000  \n",
            "75%          0.0      0.000000  \n",
            "max          0.0      2.000000  \n"
          ]
        }
      ]
    },
    {
      "cell_type": "code",
      "source": [
        "df.drop(['Open', 'High', 'Low', 'Volume', 'Dividends'], axis=1, inplace=True)"
      ],
      "metadata": {
        "id": "UKLlCjXxKG9Q"
      },
      "execution_count": null,
      "outputs": []
    },
    {
      "cell_type": "code",
      "source": [
        "print(df)"
      ],
      "metadata": {
        "colab": {
          "base_uri": "https://localhost:8080/"
        },
        "id": "Q053LL4UZNBZ",
        "outputId": "c0fe2055-205a-45eb-f6d2-0845cec116e7"
      },
      "execution_count": null,
      "outputs": [
        {
          "output_type": "stream",
          "name": "stdout",
          "text": [
            "                               Close  Stock Splits\n",
            "Date                                              \n",
            "2000-01-03 00:00:00-05:00  15.500000           0.0\n",
            "2000-01-04 00:00:00-05:00  14.625000           0.0\n",
            "2000-01-05 00:00:00-05:00  15.000000           0.0\n",
            "2000-01-06 00:00:00-05:00  16.000000           0.0\n",
            "2000-01-07 00:00:00-05:00  16.250000           0.0\n",
            "...                              ...           ...\n",
            "2022-12-23 00:00:00-05:00  64.519997           0.0\n",
            "2022-12-27 00:00:00-05:00  63.270000           0.0\n",
            "2022-12-28 00:00:00-05:00  62.570000           0.0\n",
            "2022-12-29 00:00:00-05:00  64.820000           0.0\n",
            "2022-12-30 00:00:00-05:00  64.769997           0.0\n",
            "\n",
            "[5787 rows x 2 columns]\n"
          ]
        }
      ]
    },
    {
      "cell_type": "code",
      "source": [
        "train_data = pd.DataFrame(df[['Close', 'Stock Splits']])\n",
        "\n",
        "train_data.rename(columns={'Close':'close', 'Stock Splits':'stock_split'}, inplace=True)\n",
        "train_data.head()"
      ],
      "metadata": {
        "colab": {
          "base_uri": "https://localhost:8080/",
          "height": 238
        },
        "id": "REPwaY44LGZ8",
        "outputId": "37c084c3-2293-428b-a2d2-4246a9e95604"
      },
      "execution_count": null,
      "outputs": [
        {
          "output_type": "execute_result",
          "data": {
            "text/plain": [
              "                            close  stock_split\n",
              "Date                                          \n",
              "2000-01-03 00:00:00-05:00  15.500          0.0\n",
              "2000-01-04 00:00:00-05:00  14.625          0.0\n",
              "2000-01-05 00:00:00-05:00  15.000          0.0\n",
              "2000-01-06 00:00:00-05:00  16.000          0.0\n",
              "2000-01-07 00:00:00-05:00  16.250          0.0"
            ],
            "text/html": [
              "\n",
              "  <div id=\"df-8d97649d-41d0-493a-8bec-a1bea67fbd10\">\n",
              "    <div class=\"colab-df-container\">\n",
              "      <div>\n",
              "<style scoped>\n",
              "    .dataframe tbody tr th:only-of-type {\n",
              "        vertical-align: middle;\n",
              "    }\n",
              "\n",
              "    .dataframe tbody tr th {\n",
              "        vertical-align: top;\n",
              "    }\n",
              "\n",
              "    .dataframe thead th {\n",
              "        text-align: right;\n",
              "    }\n",
              "</style>\n",
              "<table border=\"1\" class=\"dataframe\">\n",
              "  <thead>\n",
              "    <tr style=\"text-align: right;\">\n",
              "      <th></th>\n",
              "      <th>close</th>\n",
              "      <th>stock_split</th>\n",
              "    </tr>\n",
              "    <tr>\n",
              "      <th>Date</th>\n",
              "      <th></th>\n",
              "      <th></th>\n",
              "    </tr>\n",
              "  </thead>\n",
              "  <tbody>\n",
              "    <tr>\n",
              "      <th>2000-01-03 00:00:00-05:00</th>\n",
              "      <td>15.500</td>\n",
              "      <td>0.0</td>\n",
              "    </tr>\n",
              "    <tr>\n",
              "      <th>2000-01-04 00:00:00-05:00</th>\n",
              "      <td>14.625</td>\n",
              "      <td>0.0</td>\n",
              "    </tr>\n",
              "    <tr>\n",
              "      <th>2000-01-05 00:00:00-05:00</th>\n",
              "      <td>15.000</td>\n",
              "      <td>0.0</td>\n",
              "    </tr>\n",
              "    <tr>\n",
              "      <th>2000-01-06 00:00:00-05:00</th>\n",
              "      <td>16.000</td>\n",
              "      <td>0.0</td>\n",
              "    </tr>\n",
              "    <tr>\n",
              "      <th>2000-01-07 00:00:00-05:00</th>\n",
              "      <td>16.250</td>\n",
              "      <td>0.0</td>\n",
              "    </tr>\n",
              "  </tbody>\n",
              "</table>\n",
              "</div>\n",
              "      <button class=\"colab-df-convert\" onclick=\"convertToInteractive('df-8d97649d-41d0-493a-8bec-a1bea67fbd10')\"\n",
              "              title=\"Convert this dataframe to an interactive table.\"\n",
              "              style=\"display:none;\">\n",
              "        \n",
              "  <svg xmlns=\"http://www.w3.org/2000/svg\" height=\"24px\"viewBox=\"0 0 24 24\"\n",
              "       width=\"24px\">\n",
              "    <path d=\"M0 0h24v24H0V0z\" fill=\"none\"/>\n",
              "    <path d=\"M18.56 5.44l.94 2.06.94-2.06 2.06-.94-2.06-.94-.94-2.06-.94 2.06-2.06.94zm-11 1L8.5 8.5l.94-2.06 2.06-.94-2.06-.94L8.5 2.5l-.94 2.06-2.06.94zm10 10l.94 2.06.94-2.06 2.06-.94-2.06-.94-.94-2.06-.94 2.06-2.06.94z\"/><path d=\"M17.41 7.96l-1.37-1.37c-.4-.4-.92-.59-1.43-.59-.52 0-1.04.2-1.43.59L10.3 9.45l-7.72 7.72c-.78.78-.78 2.05 0 2.83L4 21.41c.39.39.9.59 1.41.59.51 0 1.02-.2 1.41-.59l7.78-7.78 2.81-2.81c.8-.78.8-2.07 0-2.86zM5.41 20L4 18.59l7.72-7.72 1.47 1.35L5.41 20z\"/>\n",
              "  </svg>\n",
              "      </button>\n",
              "      \n",
              "  <style>\n",
              "    .colab-df-container {\n",
              "      display:flex;\n",
              "      flex-wrap:wrap;\n",
              "      gap: 12px;\n",
              "    }\n",
              "\n",
              "    .colab-df-convert {\n",
              "      background-color: #E8F0FE;\n",
              "      border: none;\n",
              "      border-radius: 50%;\n",
              "      cursor: pointer;\n",
              "      display: none;\n",
              "      fill: #1967D2;\n",
              "      height: 32px;\n",
              "      padding: 0 0 0 0;\n",
              "      width: 32px;\n",
              "    }\n",
              "\n",
              "    .colab-df-convert:hover {\n",
              "      background-color: #E2EBFA;\n",
              "      box-shadow: 0px 1px 2px rgba(60, 64, 67, 0.3), 0px 1px 3px 1px rgba(60, 64, 67, 0.15);\n",
              "      fill: #174EA6;\n",
              "    }\n",
              "\n",
              "    [theme=dark] .colab-df-convert {\n",
              "      background-color: #3B4455;\n",
              "      fill: #D2E3FC;\n",
              "    }\n",
              "\n",
              "    [theme=dark] .colab-df-convert:hover {\n",
              "      background-color: #434B5C;\n",
              "      box-shadow: 0px 1px 3px 1px rgba(0, 0, 0, 0.15);\n",
              "      filter: drop-shadow(0px 1px 2px rgba(0, 0, 0, 0.3));\n",
              "      fill: #FFFFFF;\n",
              "    }\n",
              "  </style>\n",
              "\n",
              "      <script>\n",
              "        const buttonEl =\n",
              "          document.querySelector('#df-8d97649d-41d0-493a-8bec-a1bea67fbd10 button.colab-df-convert');\n",
              "        buttonEl.style.display =\n",
              "          google.colab.kernel.accessAllowed ? 'block' : 'none';\n",
              "\n",
              "        async function convertToInteractive(key) {\n",
              "          const element = document.querySelector('#df-8d97649d-41d0-493a-8bec-a1bea67fbd10');\n",
              "          const dataTable =\n",
              "            await google.colab.kernel.invokeFunction('convertToInteractive',\n",
              "                                                     [key], {});\n",
              "          if (!dataTable) return;\n",
              "\n",
              "          const docLinkHtml = 'Like what you see? Visit the ' +\n",
              "            '<a target=\"_blank\" href=https://colab.research.google.com/notebooks/data_table.ipynb>data table notebook</a>'\n",
              "            + ' to learn more about interactive tables.';\n",
              "          element.innerHTML = '';\n",
              "          dataTable['output_type'] = 'display_data';\n",
              "          await google.colab.output.renderOutput(dataTable, element);\n",
              "          const docLink = document.createElement('div');\n",
              "          docLink.innerHTML = docLinkHtml;\n",
              "          element.appendChild(docLink);\n",
              "        }\n",
              "      </script>\n",
              "    </div>\n",
              "  </div>\n",
              "  "
            ]
          },
          "metadata": {},
          "execution_count": 55
        }
      ]
    },
    {
      "cell_type": "markdown",
      "source": [
        "###Adjust for stock splits"
      ],
      "metadata": {
        "id": "otUOJ7ijKuQ6"
      }
    },
    {
      "cell_type": "code",
      "source": [
        "#Create column with cumulative product of all splits\n",
        "train_data['cumulative_multiplier'] = train_data['stock_split'].replace(0.0, 1).cumprod()\n",
        "\n",
        "#Add new column with adjusted price\n",
        "train_data['adj_close'] = train_data['close'] * train_data['cumulative_multiplier']\n",
        "\n",
        "print(train_data.head())\n",
        "print(train_data.tail())"
      ],
      "metadata": {
        "colab": {
          "base_uri": "https://localhost:8080/"
        },
        "id": "lA6gfjdvKggx",
        "outputId": "4f4d444e-d6d1-4066-dcbe-69a195c6045c"
      },
      "execution_count": null,
      "outputs": [
        {
          "output_type": "stream",
          "name": "stdout",
          "text": [
            "                            close  stock_split  cumulative_multiplier  \\\n",
            "Date                                                                    \n",
            "2000-01-03 00:00:00-05:00  15.500          0.0                    1.0   \n",
            "2000-01-04 00:00:00-05:00  14.625          0.0                    1.0   \n",
            "2000-01-05 00:00:00-05:00  15.000          0.0                    1.0   \n",
            "2000-01-06 00:00:00-05:00  16.000          0.0                    1.0   \n",
            "2000-01-07 00:00:00-05:00  16.250          0.0                    1.0   \n",
            "\n",
            "                           adj_close  \n",
            "Date                                  \n",
            "2000-01-03 00:00:00-05:00     15.500  \n",
            "2000-01-04 00:00:00-05:00     14.625  \n",
            "2000-01-05 00:00:00-05:00     15.000  \n",
            "2000-01-06 00:00:00-05:00     16.000  \n",
            "2000-01-07 00:00:00-05:00     16.250  \n",
            "                               close  stock_split  cumulative_multiplier  \\\n",
            "Date                                                                       \n",
            "2022-12-23 00:00:00-05:00  64.519997          0.0                    2.0   \n",
            "2022-12-27 00:00:00-05:00  63.270000          0.0                    2.0   \n",
            "2022-12-28 00:00:00-05:00  62.570000          0.0                    2.0   \n",
            "2022-12-29 00:00:00-05:00  64.820000          0.0                    2.0   \n",
            "2022-12-30 00:00:00-05:00  64.769997          0.0                    2.0   \n",
            "\n",
            "                            adj_close  \n",
            "Date                                   \n",
            "2022-12-23 00:00:00-05:00  129.039993  \n",
            "2022-12-27 00:00:00-05:00  126.540001  \n",
            "2022-12-28 00:00:00-05:00  125.139999  \n",
            "2022-12-29 00:00:00-05:00  129.639999  \n",
            "2022-12-30 00:00:00-05:00  129.539993  \n"
          ]
        }
      ]
    },
    {
      "cell_type": "code",
      "source": [
        "train_data.drop(['close', 'stock_split', 'cumulative_multiplier'], axis=1, inplace=True)\n",
        "train_data.head()"
      ],
      "metadata": {
        "colab": {
          "base_uri": "https://localhost:8080/",
          "height": 238
        },
        "id": "MSuE6QpPeChG",
        "outputId": "846c39e0-4d9a-403b-ae21-e12339f56162"
      },
      "execution_count": null,
      "outputs": [
        {
          "output_type": "execute_result",
          "data": {
            "text/plain": [
              "                           adj_close\n",
              "Date                                \n",
              "2000-01-03 00:00:00-05:00     15.500\n",
              "2000-01-04 00:00:00-05:00     14.625\n",
              "2000-01-05 00:00:00-05:00     15.000\n",
              "2000-01-06 00:00:00-05:00     16.000\n",
              "2000-01-07 00:00:00-05:00     16.250"
            ],
            "text/html": [
              "\n",
              "  <div id=\"df-4266c7d5-4644-4ee6-bbf3-1b7539408035\">\n",
              "    <div class=\"colab-df-container\">\n",
              "      <div>\n",
              "<style scoped>\n",
              "    .dataframe tbody tr th:only-of-type {\n",
              "        vertical-align: middle;\n",
              "    }\n",
              "\n",
              "    .dataframe tbody tr th {\n",
              "        vertical-align: top;\n",
              "    }\n",
              "\n",
              "    .dataframe thead th {\n",
              "        text-align: right;\n",
              "    }\n",
              "</style>\n",
              "<table border=\"1\" class=\"dataframe\">\n",
              "  <thead>\n",
              "    <tr style=\"text-align: right;\">\n",
              "      <th></th>\n",
              "      <th>adj_close</th>\n",
              "    </tr>\n",
              "    <tr>\n",
              "      <th>Date</th>\n",
              "      <th></th>\n",
              "    </tr>\n",
              "  </thead>\n",
              "  <tbody>\n",
              "    <tr>\n",
              "      <th>2000-01-03 00:00:00-05:00</th>\n",
              "      <td>15.500</td>\n",
              "    </tr>\n",
              "    <tr>\n",
              "      <th>2000-01-04 00:00:00-05:00</th>\n",
              "      <td>14.625</td>\n",
              "    </tr>\n",
              "    <tr>\n",
              "      <th>2000-01-05 00:00:00-05:00</th>\n",
              "      <td>15.000</td>\n",
              "    </tr>\n",
              "    <tr>\n",
              "      <th>2000-01-06 00:00:00-05:00</th>\n",
              "      <td>16.000</td>\n",
              "    </tr>\n",
              "    <tr>\n",
              "      <th>2000-01-07 00:00:00-05:00</th>\n",
              "      <td>16.250</td>\n",
              "    </tr>\n",
              "  </tbody>\n",
              "</table>\n",
              "</div>\n",
              "      <button class=\"colab-df-convert\" onclick=\"convertToInteractive('df-4266c7d5-4644-4ee6-bbf3-1b7539408035')\"\n",
              "              title=\"Convert this dataframe to an interactive table.\"\n",
              "              style=\"display:none;\">\n",
              "        \n",
              "  <svg xmlns=\"http://www.w3.org/2000/svg\" height=\"24px\"viewBox=\"0 0 24 24\"\n",
              "       width=\"24px\">\n",
              "    <path d=\"M0 0h24v24H0V0z\" fill=\"none\"/>\n",
              "    <path d=\"M18.56 5.44l.94 2.06.94-2.06 2.06-.94-2.06-.94-.94-2.06-.94 2.06-2.06.94zm-11 1L8.5 8.5l.94-2.06 2.06-.94-2.06-.94L8.5 2.5l-.94 2.06-2.06.94zm10 10l.94 2.06.94-2.06 2.06-.94-2.06-.94-.94-2.06-.94 2.06-2.06.94z\"/><path d=\"M17.41 7.96l-1.37-1.37c-.4-.4-.92-.59-1.43-.59-.52 0-1.04.2-1.43.59L10.3 9.45l-7.72 7.72c-.78.78-.78 2.05 0 2.83L4 21.41c.39.39.9.59 1.41.59.51 0 1.02-.2 1.41-.59l7.78-7.78 2.81-2.81c.8-.78.8-2.07 0-2.86zM5.41 20L4 18.59l7.72-7.72 1.47 1.35L5.41 20z\"/>\n",
              "  </svg>\n",
              "      </button>\n",
              "      \n",
              "  <style>\n",
              "    .colab-df-container {\n",
              "      display:flex;\n",
              "      flex-wrap:wrap;\n",
              "      gap: 12px;\n",
              "    }\n",
              "\n",
              "    .colab-df-convert {\n",
              "      background-color: #E8F0FE;\n",
              "      border: none;\n",
              "      border-radius: 50%;\n",
              "      cursor: pointer;\n",
              "      display: none;\n",
              "      fill: #1967D2;\n",
              "      height: 32px;\n",
              "      padding: 0 0 0 0;\n",
              "      width: 32px;\n",
              "    }\n",
              "\n",
              "    .colab-df-convert:hover {\n",
              "      background-color: #E2EBFA;\n",
              "      box-shadow: 0px 1px 2px rgba(60, 64, 67, 0.3), 0px 1px 3px 1px rgba(60, 64, 67, 0.15);\n",
              "      fill: #174EA6;\n",
              "    }\n",
              "\n",
              "    [theme=dark] .colab-df-convert {\n",
              "      background-color: #3B4455;\n",
              "      fill: #D2E3FC;\n",
              "    }\n",
              "\n",
              "    [theme=dark] .colab-df-convert:hover {\n",
              "      background-color: #434B5C;\n",
              "      box-shadow: 0px 1px 3px 1px rgba(0, 0, 0, 0.15);\n",
              "      filter: drop-shadow(0px 1px 2px rgba(0, 0, 0, 0.3));\n",
              "      fill: #FFFFFF;\n",
              "    }\n",
              "  </style>\n",
              "\n",
              "      <script>\n",
              "        const buttonEl =\n",
              "          document.querySelector('#df-4266c7d5-4644-4ee6-bbf3-1b7539408035 button.colab-df-convert');\n",
              "        buttonEl.style.display =\n",
              "          google.colab.kernel.accessAllowed ? 'block' : 'none';\n",
              "\n",
              "        async function convertToInteractive(key) {\n",
              "          const element = document.querySelector('#df-4266c7d5-4644-4ee6-bbf3-1b7539408035');\n",
              "          const dataTable =\n",
              "            await google.colab.kernel.invokeFunction('convertToInteractive',\n",
              "                                                     [key], {});\n",
              "          if (!dataTable) return;\n",
              "\n",
              "          const docLinkHtml = 'Like what you see? Visit the ' +\n",
              "            '<a target=\"_blank\" href=https://colab.research.google.com/notebooks/data_table.ipynb>data table notebook</a>'\n",
              "            + ' to learn more about interactive tables.';\n",
              "          element.innerHTML = '';\n",
              "          dataTable['output_type'] = 'display_data';\n",
              "          await google.colab.output.renderOutput(dataTable, element);\n",
              "          const docLink = document.createElement('div');\n",
              "          docLink.innerHTML = docLinkHtml;\n",
              "          element.appendChild(docLink);\n",
              "        }\n",
              "      </script>\n",
              "    </div>\n",
              "  </div>\n",
              "  "
            ]
          },
          "metadata": {},
          "execution_count": 57
        }
      ]
    },
    {
      "cell_type": "code",
      "source": [
        "import pywt\n",
        "import copy\n",
        "\n",
        "composite_signal =  train_data['adj_close'].values\n",
        "def filter_bank(index_list, wavefunc='haar', lv=4, m=1, n=4, plot=False):\n",
        "\n",
        "    # Decomposing\n",
        "    coeff = pywt.wavedec(composite_signal,wavefunc,mode='sym',level=lv)   #  Decomposing by levels，cD is the details coefficient\n",
        "    sgn = lambda x: 1 if x > 0 else -1 if x < 0 else 0\n",
        "    # Denoising\n",
        "    # Soft Threshold Processing Method\n",
        "    for i in range(m,n+1):   #  Select m~n Levels of the wavelet coefficients，and no need to dispose the cA coefficients(approximation coefficients)\n",
        "        cD = coeff[i]\n",
        "        Tr = np.sqrt(2*np.log2(len(cD)))  # Compute Threshold\n",
        "        for j in range(len(cD)):\n",
        "            if cD[j] >= Tr:\n",
        "                coeff[i][j] = sgn(cD[j]) * (np.abs(cD[j]) -  Tr)  # Shrink to zero\n",
        "            else:\n",
        "                coeff[i][j] = 0   # Set to zero if smaller than threshold\n",
        "    # Reconstructing\n",
        "    coeffs = {}\n",
        "    for i in range(len(coeff)):\n",
        "        coeffs[i] = copy.deepcopy(coeff)\n",
        "        for j in range(len(coeff)):\n",
        "            if j != i:\n",
        "                coeffs[i][j] = np.zeros_like(coeff[j])\n",
        "\n",
        "    for i in range(len(coeff)):\n",
        "        coeff[i] = pywt.waverec(coeffs[i], wavefunc)\n",
        "        if len(coeff[i]) > len(index_list):\n",
        "            coeff[i] = coeff[i][:-1]\n",
        "\n",
        "    if plot:\n",
        "        denoised_index = np.sum(coeff, axis=0)\n",
        "        data = pd.DataFrame({'ADJ_CLOSE': index_list, 'DENOISED': denoised_index})\n",
        "        train_data['denoised_adj_close'] = denoised_index #add new denoised_close column to train_data\n",
        "        data.plot(figsize=(10,10),subplots=(2,1))\n",
        "        data.plot(figsize=(10,5))\n",
        "\n",
        "    return coeff\n",
        "\n",
        "#plot results\n",
        "coeff=filter_bank(composite_signal,plot=True)\n"
      ],
      "metadata": {
        "colab": {
          "base_uri": "https://localhost:8080/",
          "height": 1000
        },
        "id": "7zViIw6rQVsr",
        "outputId": "60fa4473-1dff-4f8c-dd48-97b887af00ca"
      },
      "execution_count": null,
      "outputs": [
        {
          "output_type": "display_data",
          "data": {
            "text/plain": [
              "<Figure size 1000x1000 with 2 Axes>"
            ],
            "image/png": "[encoded data removed]"
          },
          "metadata": {}
        },
        {
          "output_type": "display_data",
          "data": {
            "text/plain": [
              "<Figure size 1000x500 with 1 Axes>"
            ],
            "image/png": "[encoded data removed]"
          },
          "metadata": {}
        }
      ]
    },
    {
      "cell_type": "code",
      "source": [
        "print(train_data.shape)\n",
        "print(train_data.info())\n",
        "train_data.head()"
      ],
      "metadata": {
        "colab": {
          "base_uri": "https://localhost:8080/",
          "height": 428
        },
        "id": "ZwS4s60zRLBP",
        "outputId": "be2e652d-0f15-4315-fc0a-6f8239927b7e"
      },
      "execution_count": null,
      "outputs": [
        {
          "output_type": "stream",
          "name": "stdout",
          "text": [
            "(5787, 2)\n",
            "<class 'pandas.core.frame.DataFrame'>\n",
            "DatetimeIndex: 5787 entries, 2000-01-03 00:00:00-05:00 to 2022-12-30 00:00:00-05:00\n",
            "Data columns (total 2 columns):\n",
            " #   Column              Non-Null Count  Dtype  \n",
            "---  ------              --------------  -----  \n",
            " 0   adj_close           5787 non-null   float64\n",
            " 1   denoised_adj_close  5787 non-null   float64\n",
            "dtypes: float64(2)\n",
            "memory usage: 135.6 KB\n",
            "None\n"
          ]
        },
        {
          "output_type": "execute_result",
          "data": {
            "text/plain": [
              "                           adj_close  denoised_adj_close\n",
              "Date                                                    \n",
              "2000-01-03 00:00:00-05:00     15.500           17.755859\n",
              "2000-01-04 00:00:00-05:00     14.625           17.755859\n",
              "2000-01-05 00:00:00-05:00     15.000           17.755859\n",
              "2000-01-06 00:00:00-05:00     16.000           17.755859\n",
              "2000-01-07 00:00:00-05:00     16.250           17.755859"
            ],
            "text/html": [
              "\n",
              "  <div id=\"df-f67b13d7-981d-4921-92e2-71746ac360cf\">\n",
              "    <div class=\"colab-df-container\">\n",
              "      <div>\n",
              "<style scoped>\n",
              "    .dataframe tbody tr th:only-of-type {\n",
              "        vertical-align: middle;\n",
              "    }\n",
              "\n",
              "    .dataframe tbody tr th {\n",
              "        vertical-align: top;\n",
              "    }\n",
              "\n",
              "    .dataframe thead th {\n",
              "        text-align: right;\n",
              "    }\n",
              "</style>\n",
              "<table border=\"1\" class=\"dataframe\">\n",
              "  <thead>\n",
              "    <tr style=\"text-align: right;\">\n",
              "      <th></th>\n",
              "      <th>adj_close</th>\n",
              "      <th>denoised_adj_close</th>\n",
              "    </tr>\n",
              "    <tr>\n",
              "      <th>Date</th>\n",
              "      <th></th>\n",
              "      <th></th>\n",
              "    </tr>\n",
              "  </thead>\n",
              "  <tbody>\n",
              "    <tr>\n",
              "      <th>2000-01-03 00:00:00-05:00</th>\n",
              "      <td>15.500</td>\n",
              "      <td>17.755859</td>\n",
              "    </tr>\n",
              "    <tr>\n",
              "      <th>2000-01-04 00:00:00-05:00</th>\n",
              "      <td>14.625</td>\n",
              "      <td>17.755859</td>\n",
              "    </tr>\n",
              "    <tr>\n",
              "      <th>2000-01-05 00:00:00-05:00</th>\n",
              "      <td>15.000</td>\n",
              "      <td>17.755859</td>\n",
              "    </tr>\n",
              "    <tr>\n",
              "      <th>2000-01-06 00:00:00-05:00</th>\n",
              "      <td>16.000</td>\n",
              "      <td>17.755859</td>\n",
              "    </tr>\n",
              "    <tr>\n",
              "      <th>2000-01-07 00:00:00-05:00</th>\n",
              "      <td>16.250</td>\n",
              "      <td>17.755859</td>\n",
              "    </tr>\n",
              "  </tbody>\n",
              "</table>\n",
              "</div>\n",
              "      <button class=\"colab-df-convert\" onclick=\"convertToInteractive('df-f67b13d7-981d-4921-92e2-71746ac360cf')\"\n",
              "              title=\"Convert this dataframe to an interactive table.\"\n",
              "              style=\"display:none;\">\n",
              "        \n",
              "  <svg xmlns=\"http://www.w3.org/2000/svg\" height=\"24px\"viewBox=\"0 0 24 24\"\n",
              "       width=\"24px\">\n",
              "    <path d=\"M0 0h24v24H0V0z\" fill=\"none\"/>\n",
              "    <path d=\"M18.56 5.44l.94 2.06.94-2.06 2.06-.94-2.06-.94-.94-2.06-.94 2.06-2.06.94zm-11 1L8.5 8.5l.94-2.06 2.06-.94-2.06-.94L8.5 2.5l-.94 2.06-2.06.94zm10 10l.94 2.06.94-2.06 2.06-.94-2.06-.94-.94-2.06-.94 2.06-2.06.94z\"/><path d=\"M17.41 7.96l-1.37-1.37c-.4-.4-.92-.59-1.43-.59-.52 0-1.04.2-1.43.59L10.3 9.45l-7.72 7.72c-.78.78-.78 2.05 0 2.83L4 21.41c.39.39.9.59 1.41.59.51 0 1.02-.2 1.41-.59l7.78-7.78 2.81-2.81c.8-.78.8-2.07 0-2.86zM5.41 20L4 18.59l7.72-7.72 1.47 1.35L5.41 20z\"/>\n",
              "  </svg>\n",
              "      </button>\n",
              "      \n",
              "  <style>\n",
              "    .colab-df-container {\n",
              "      display:flex;\n",
              "      flex-wrap:wrap;\n",
              "      gap: 12px;\n",
              "    }\n",
              "\n",
              "    .colab-df-convert {\n",
              "      background-color: #E8F0FE;\n",
              "      border: none;\n",
              "      border-radius: 50%;\n",
              "      cursor: pointer;\n",
              "      display: none;\n",
              "      fill: #1967D2;\n",
              "      height: 32px;\n",
              "      padding: 0 0 0 0;\n",
              "      width: 32px;\n",
              "    }\n",
              "\n",
              "    .colab-df-convert:hover {\n",
              "      background-color: #E2EBFA;\n",
              "      box-shadow: 0px 1px 2px rgba(60, 64, 67, 0.3), 0px 1px 3px 1px rgba(60, 64, 67, 0.15);\n",
              "      fill: #174EA6;\n",
              "    }\n",
              "\n",
              "    [theme=dark] .colab-df-convert {\n",
              "      background-color: #3B4455;\n",
              "      fill: #D2E3FC;\n",
              "    }\n",
              "\n",
              "    [theme=dark] .colab-df-convert:hover {\n",
              "      background-color: #434B5C;\n",
              "      box-shadow: 0px 1px 3px 1px rgba(0, 0, 0, 0.15);\n",
              "      filter: drop-shadow(0px 1px 2px rgba(0, 0, 0, 0.3));\n",
              "      fill: #FFFFFF;\n",
              "    }\n",
              "  </style>\n",
              "\n",
              "      <script>\n",
              "        const buttonEl =\n",
              "          document.querySelector('#df-f67b13d7-981d-4921-92e2-71746ac360cf button.colab-df-convert');\n",
              "        buttonEl.style.display =\n",
              "          google.colab.kernel.accessAllowed ? 'block' : 'none';\n",
              "\n",
              "        async function convertToInteractive(key) {\n",
              "          const element = document.querySelector('#df-f67b13d7-981d-4921-92e2-71746ac360cf');\n",
              "          const dataTable =\n",
              "            await google.colab.kernel.invokeFunction('convertToInteractive',\n",
              "                                                     [key], {});\n",
              "          if (!dataTable) return;\n",
              "\n",
              "          const docLinkHtml = 'Like what you see? Visit the ' +\n",
              "            '<a target=\"_blank\" href=https://colab.research.google.com/notebooks/data_table.ipynb>data table notebook</a>'\n",
              "            + ' to learn more about interactive tables.';\n",
              "          element.innerHTML = '';\n",
              "          dataTable['output_type'] = 'display_data';\n",
              "          await google.colab.output.renderOutput(dataTable, element);\n",
              "          const docLink = document.createElement('div');\n",
              "          docLink.innerHTML = docLinkHtml;\n",
              "          element.appendChild(docLink);\n",
              "        }\n",
              "      </script>\n",
              "    </div>\n",
              "  </div>\n",
              "  "
            ]
          },
          "metadata": {},
          "execution_count": 59
        }
      ]
    },
    {
      "cell_type": "code",
      "source": [
        "train_data.describe()"
      ],
      "metadata": {
        "colab": {
          "base_uri": "https://localhost:8080/",
          "height": 300
        },
        "id": "IFaN908Ihc0g",
        "outputId": "6e662d46-2dbe-4bae-d247-5ae3aaa97f8d"
      },
      "execution_count": null,
      "outputs": [
        {
          "output_type": "execute_result",
          "data": {
            "text/plain": [
              "         adj_close  denoised_adj_close\n",
              "count  5787.000000         5787.000000\n",
              "mean     43.238022           43.237446\n",
              "std      55.620436           55.514193\n",
              "min       3.240000            3.567500\n",
              "25%      11.390000           11.363267\n",
              "50%      23.680000           23.740000\n",
              "75%      44.632500           45.022500\n",
              "max     323.820007          317.627526"
            ],
            "text/html": [
              "\n",
              "  <div id=\"df-23fc7729-4685-4de4-a936-257506a9b9f9\">\n",
              "    <div class=\"colab-df-container\">\n",
              "      <div>\n",
              "<style scoped>\n",
              "    .dataframe tbody tr th:only-of-type {\n",
              "        vertical-align: middle;\n",
              "    }\n",
              "\n",
              "    .dataframe tbody tr th {\n",
              "        vertical-align: top;\n",
              "    }\n",
              "\n",
              "    .dataframe thead th {\n",
              "        text-align: right;\n",
              "    }\n",
              "</style>\n",
              "<table border=\"1\" class=\"dataframe\">\n",
              "  <thead>\n",
              "    <tr style=\"text-align: right;\">\n",
              "      <th></th>\n",
              "      <th>adj_close</th>\n",
              "      <th>denoised_adj_close</th>\n",
              "    </tr>\n",
              "  </thead>\n",
              "  <tbody>\n",
              "    <tr>\n",
              "      <th>count</th>\n",
              "      <td>5787.000000</td>\n",
              "      <td>5787.000000</td>\n",
              "    </tr>\n",
              "    <tr>\n",
              "      <th>mean</th>\n",
              "      <td>43.238022</td>\n",
              "      <td>43.237446</td>\n",
              "    </tr>\n",
              "    <tr>\n",
              "      <th>std</th>\n",
              "      <td>55.620436</td>\n",
              "      <td>55.514193</td>\n",
              "    </tr>\n",
              "    <tr>\n",
              "      <th>min</th>\n",
              "      <td>3.240000</td>\n",
              "      <td>3.567500</td>\n",
              "    </tr>\n",
              "    <tr>\n",
              "      <th>25%</th>\n",
              "      <td>11.390000</td>\n",
              "      <td>11.363267</td>\n",
              "    </tr>\n",
              "    <tr>\n",
              "      <th>50%</th>\n",
              "      <td>23.680000</td>\n",
              "      <td>23.740000</td>\n",
              "    </tr>\n",
              "    <tr>\n",
              "      <th>75%</th>\n",
              "      <td>44.632500</td>\n",
              "      <td>45.022500</td>\n",
              "    </tr>\n",
              "    <tr>\n",
              "      <th>max</th>\n",
              "      <td>323.820007</td>\n",
              "      <td>317.627526</td>\n",
              "    </tr>\n",
              "  </tbody>\n",
              "</table>\n",
              "</div>\n",
              "      <button class=\"colab-df-convert\" onclick=\"convertToInteractive('df-23fc7729-4685-4de4-a936-257506a9b9f9')\"\n",
              "              title=\"Convert this dataframe to an interactive table.\"\n",
              "              style=\"display:none;\">\n",
              "        \n",
              "  <svg xmlns=\"http://www.w3.org/2000/svg\" height=\"24px\"viewBox=\"0 0 24 24\"\n",
              "       width=\"24px\">\n",
              "    <path d=\"M0 0h24v24H0V0z\" fill=\"none\"/>\n",
              "    <path d=\"M18.56 5.44l.94 2.06.94-2.06 2.06-.94-2.06-.94-.94-2.06-.94 2.06-2.06.94zm-11 1L8.5 8.5l.94-2.06 2.06-.94-2.06-.94L8.5 2.5l-.94 2.06-2.06.94zm10 10l.94 2.06.94-2.06 2.06-.94-2.06-.94-.94-2.06-.94 2.06-2.06.94z\"/><path d=\"M17.41 7.96l-1.37-1.37c-.4-.4-.92-.59-1.43-.59-.52 0-1.04.2-1.43.59L10.3 9.45l-7.72 7.72c-.78.78-.78 2.05 0 2.83L4 21.41c.39.39.9.59 1.41.59.51 0 1.02-.2 1.41-.59l7.78-7.78 2.81-2.81c.8-.78.8-2.07 0-2.86zM5.41 20L4 18.59l7.72-7.72 1.47 1.35L5.41 20z\"/>\n",
              "  </svg>\n",
              "      </button>\n",
              "      \n",
              "  <style>\n",
              "    .colab-df-container {\n",
              "      display:flex;\n",
              "      flex-wrap:wrap;\n",
              "      gap: 12px;\n",
              "    }\n",
              "\n",
              "    .colab-df-convert {\n",
              "      background-color: #E8F0FE;\n",
              "      border: none;\n",
              "      border-radius: 50%;\n",
              "      cursor: pointer;\n",
              "      display: none;\n",
              "      fill: #1967D2;\n",
              "      height: 32px;\n",
              "      padding: 0 0 0 0;\n",
              "      width: 32px;\n",
              "    }\n",
              "\n",
              "    .colab-df-convert:hover {\n",
              "      background-color: #E2EBFA;\n",
              "      box-shadow: 0px 1px 2px rgba(60, 64, 67, 0.3), 0px 1px 3px 1px rgba(60, 64, 67, 0.15);\n",
              "      fill: #174EA6;\n",
              "    }\n",
              "\n",
              "    [theme=dark] .colab-df-convert {\n",
              "      background-color: #3B4455;\n",
              "      fill: #D2E3FC;\n",
              "    }\n",
              "\n",
              "    [theme=dark] .colab-df-convert:hover {\n",
              "      background-color: #434B5C;\n",
              "      box-shadow: 0px 1px 3px 1px rgba(0, 0, 0, 0.15);\n",
              "      filter: drop-shadow(0px 1px 2px rgba(0, 0, 0, 0.3));\n",
              "      fill: #FFFFFF;\n",
              "    }\n",
              "  </style>\n",
              "\n",
              "      <script>\n",
              "        const buttonEl =\n",
              "          document.querySelector('#df-23fc7729-4685-4de4-a936-257506a9b9f9 button.colab-df-convert');\n",
              "        buttonEl.style.display =\n",
              "          google.colab.kernel.accessAllowed ? 'block' : 'none';\n",
              "\n",
              "        async function convertToInteractive(key) {\n",
              "          const element = document.querySelector('#df-23fc7729-4685-4de4-a936-257506a9b9f9');\n",
              "          const dataTable =\n",
              "            await google.colab.kernel.invokeFunction('convertToInteractive',\n",
              "                                                     [key], {});\n",
              "          if (!dataTable) return;\n",
              "\n",
              "          const docLinkHtml = 'Like what you see? Visit the ' +\n",
              "            '<a target=\"_blank\" href=https://colab.research.google.com/notebooks/data_table.ipynb>data table notebook</a>'\n",
              "            + ' to learn more about interactive tables.';\n",
              "          element.innerHTML = '';\n",
              "          dataTable['output_type'] = 'display_data';\n",
              "          await google.colab.output.renderOutput(dataTable, element);\n",
              "          const docLink = document.createElement('div');\n",
              "          docLink.innerHTML = docLinkHtml;\n",
              "          element.appendChild(docLink);\n",
              "        }\n",
              "      </script>\n",
              "    </div>\n",
              "  </div>\n",
              "  "
            ]
          },
          "metadata": {},
          "execution_count": 60
        }
      ]
    },
    {
      "cell_type": "code",
      "source": [
        "X = []\n",
        "y = []\n",
        "\n",
        "# for i in range (60, train_data.shape[0]):\n",
        "#   X.append(train_data.iloc[i-60:i, 1])\n",
        "#   y.append(train_data.iloc[i, 0])\n",
        "\n",
        "# X, y = np.array(X), np.array(y)\n",
        "\n",
        "# y=np.reshape(y, (len(y), 1))\n",
        "\n",
        "for i in range (60, train_data.shape[0]):\n",
        "  X.append(train_data.iloc[i-60:i, 1])\n",
        "  y.append(train_data.iloc[i, 0])\n",
        "\n",
        "X, y = np.array(X), np.array(y)\n",
        "\n",
        "y=np.reshape(y, (len(y), 1))"
      ],
      "metadata": {
        "id": "Pz66PQf-ZjNm"
      },
      "execution_count": null,
      "outputs": []
    },
    {
      "cell_type": "code",
      "source": [
        "print(X.shape)\n",
        "print(y.shape)\n",
        "print(X)\n",
        "print(y)"
      ],
      "metadata": {
        "colab": {
          "base_uri": "https://localhost:8080/"
        },
        "id": "ZPXfMhR42m4w",
        "outputId": "8ab2ce36-0061-4d16-d0aa-be4dc6f1ba87"
      },
      "execution_count": null,
      "outputs": [
        {
          "output_type": "stream",
          "name": "stdout",
          "text": [
            "(5727, 60)\n",
            "(5727, 1)\n",
            "[[ 17.75585938  17.75585938  17.75585938 ...  27.10351563  27.10351563\n",
            "   27.10351563]\n",
            " [ 17.75585938  17.75585938  17.75585938 ...  27.10351563  27.10351563\n",
            "   27.10351563]\n",
            " [ 17.75585938  17.75585938  17.75585938 ...  27.10351563  27.10351563\n",
            "   27.10351563]\n",
            " ...\n",
            " [134.23826752 134.23826752 134.23826752 ... 128.91724377 129.34624815\n",
            "  129.34624815]\n",
            " [134.23826752 134.23826752 134.23826752 ... 129.34624815 129.34624815\n",
            "  129.34624815]\n",
            " [134.23826752 134.23826752 117.10249901 ... 129.34624815 129.34624815\n",
            "  129.34624815]]\n",
            "[[ 27.375     ]\n",
            " [ 30.        ]\n",
            " [ 29.5       ]\n",
            " ...\n",
            " [125.13999939]\n",
            " [129.63999939]\n",
            " [129.53999329]]\n"
          ]
        }
      ]
    },
    {
      "cell_type": "code",
      "source": [
        "from sklearn.preprocessing import MinMaxScaler\n",
        "\n",
        "sc = MinMaxScaler(feature_range=(0,1))\n",
        "X = sc.fit_transform(X)\n",
        "y = sc.fit_transform(y)"
      ],
      "metadata": {
        "id": "TJJ1DPcuwfks"
      },
      "execution_count": null,
      "outputs": []
    },
    {
      "cell_type": "code",
      "source": [
        "train_size = round(X.shape[0] * .8)\n",
        "\n",
        "X_train, X_test = X[:train_size], X[train_size-60:]\n",
        "y_train, y_test = y[:train_size], y[train_size-60:]\n",
        "\n",
        "print(train_size)"
      ],
      "metadata": {
        "colab": {
          "base_uri": "https://localhost:8080/"
        },
        "id": "2w555xXIZCQg",
        "outputId": "abf3846f-99e1-4243-c3e0-8d501189e0b0"
      },
      "execution_count": null,
      "outputs": [
        {
          "output_type": "stream",
          "name": "stdout",
          "text": [
            "4582\n"
          ]
        }
      ]
    },
    {
      "cell_type": "code",
      "source": [
        "print(X_train.shape)\n",
        "print(y_train.shape)\n",
        "print(\"=============\")\n",
        "print(X_test.shape)\n",
        "print(y_test.shape)\n",
        "print(\"=============\")\n",
        "print(X.shape)\n",
        "print(y.shape)"
      ],
      "metadata": {
        "colab": {
          "base_uri": "https://localhost:8080/"
        },
        "id": "BubSDRuQThYc",
        "outputId": "e454e9fe-278e-4a8a-9fcd-50b698bc355a"
      },
      "execution_count": null,
      "outputs": [
        {
          "output_type": "stream",
          "name": "stdout",
          "text": [
            "(4582, 60)\n",
            "(4582, 1)\n",
            "=============\n",
            "(1205, 60)\n",
            "(1205, 1)\n",
            "=============\n",
            "(5727, 60)\n",
            "(5727, 1)\n"
          ]
        }
      ]
    },
    {
      "cell_type": "markdown",
      "source": [
        "##Build and Train the Model"
      ],
      "metadata": {
        "id": "HNK5jW7Jyc6Z"
      }
    },
    {
      "cell_type": "code",
      "source": [
        "from keras.models import Sequential\n",
        "from keras.layers import Dense, LSTM, Dropout\n",
        "from keras import regularizers\n",
        "from keras import optimizers\n",
        "from keras import backend as K\n",
        "\n",
        "regressor = Sequential()\n",
        "\n",
        "#Include notes about why we use the RMSE instead of MSE\n",
        "def root_mean_squared_error(y_true, y_pred):\n",
        "        return K.sqrt(K.mean(K.square(y_pred - y_true), axis=-1))"
      ],
      "metadata": {
        "id": "KWjKqVxfycEQ"
      },
      "execution_count": null,
      "outputs": []
    },
    {
      "cell_type": "code",
      "source": [
        "regressor.add(LSTM(units = 150, input_shape = (X_train.shape[1], 1)))\n",
        "regressor.add(Dropout(0.2))"
      ],
      "metadata": {
        "id": "q8nA4TsRypuR"
      },
      "execution_count": null,
      "outputs": []
    },
    {
      "cell_type": "code",
      "source": [
        "# #Layer 2\n",
        "# regressor.add(LSTM(units = 150, return_sequences = True))\n",
        "# regressor.add(Dropout(0.2))\n",
        "\n",
        "# #Layer 3\n",
        "# regressor.add(LSTM(units = 150))\n",
        "# regressor.add(Dropout(0.2))"
      ],
      "metadata": {
        "id": "HV2Rtop7ysWK"
      },
      "execution_count": null,
      "outputs": []
    },
    {
      "cell_type": "code",
      "source": [
        "# regressor.add(Dense(units = 150, activation='relu'))"
      ],
      "metadata": {
        "id": "XNk3W6yYyvI6"
      },
      "execution_count": null,
      "outputs": []
    },
    {
      "cell_type": "code",
      "source": [
        "regressor.add(Dense(units = 1))\n",
        "regressor.summary()"
      ],
      "metadata": {
        "colab": {
          "base_uri": "https://localhost:8080/"
        },
        "id": "0jJ8Je_fyvqr",
        "outputId": "89db932b-4292-423e-9abe-376b4c444997"
      },
      "execution_count": null,
      "outputs": [
        {
          "output_type": "stream",
          "name": "stdout",
          "text": [
            "Model: \"sequential_2\"\n",
            "_________________________________________________________________\n",
            " Layer (type)                Output Shape              Param #   \n",
            "=================================================================\n",
            " lstm_2 (LSTM)               (None, 150)               91200     \n",
            "                                                                 \n",
            " dropout_2 (Dropout)         (None, 150)               0         \n",
            "                                                                 \n",
            " dense_2 (Dense)             (None, 1)                 151       \n",
            "                                                                 \n",
            "=================================================================\n",
            "Total params: 91,351\n",
            "Trainable params: 91,351\n",
            "Non-trainable params: 0\n",
            "_________________________________________________________________\n"
          ]
        }
      ]
    },
    {
      "cell_type": "markdown",
      "source": [
        "##Compile and Fit model to training set"
      ],
      "metadata": {
        "id": "vPFvLpLa01YW"
      }
    },
    {
      "cell_type": "code",
      "source": [
        "regressor.compile(optimizer = 'adam', loss = root_mean_squared_error)\n",
        "\n",
        "regressor.fit(X_train, y_train, epochs = 100, batch_size = 16)"
      ],
      "metadata": {
        "colab": {
          "base_uri": "https://localhost:8080/"
        },
        "id": "g0e4tQEK05Rd",
        "outputId": "58f62138-8dee-4d4f-dd8a-c69acc0aee11"
      },
      "execution_count": null,
      "outputs": [
        {
          "output_type": "stream",
          "name": "stdout",
          "text": [
            "Epoch 1/100\n",
            "287/287 [==============================] - 5s 7ms/step - loss: 0.0067\n",
            "Epoch 2/100\n",
            "287/287 [==============================] - 1s 5ms/step - loss: 0.0046\n",
            "Epoch 3/100\n",
            "287/287 [==============================] - 2s 5ms/step - loss: 0.0043\n",
            "Epoch 4/100\n",
            "287/287 [==============================] - 1s 5ms/step - loss: 0.0043\n",
            "Epoch 5/100\n",
            "287/287 [==============================] - 2s 5ms/step - loss: 0.0042\n",
            "Epoch 6/100\n",
            "287/287 [==============================] - 2s 5ms/step - loss: 0.0042\n",
            "Epoch 7/100\n",
            "287/287 [==============================] - 3s 10ms/step - loss: 0.0039\n",
            "Epoch 8/100\n",
            "287/287 [==============================] - 3s 10ms/step - loss: 0.0038\n",
            "Epoch 9/100\n",
            "287/287 [==============================] - 2s 9ms/step - loss: 0.0039\n",
            "Epoch 10/100\n",
            "287/287 [==============================] - 3s 9ms/step - loss: 0.0041\n",
            "Epoch 11/100\n",
            "287/287 [==============================] - 3s 9ms/step - loss: 0.0038\n",
            "Epoch 12/100\n",
            "287/287 [==============================] - 3s 12ms/step - loss: 0.0039\n",
            "Epoch 13/100\n",
            "287/287 [==============================] - 3s 10ms/step - loss: 0.0039\n",
            "Epoch 14/100\n",
            "287/287 [==============================] - 2s 9ms/step - loss: 0.0039\n",
            "Epoch 15/100\n",
            "287/287 [==============================] - 2s 5ms/step - loss: 0.0039\n",
            "Epoch 16/100\n",
            "287/287 [==============================] - 1s 5ms/step - loss: 0.0040\n",
            "Epoch 17/100\n",
            "287/287 [==============================] - 1s 5ms/step - loss: 0.0037\n",
            "Epoch 18/100\n",
            "287/287 [==============================] - 2s 7ms/step - loss: 0.0038\n",
            "Epoch 19/100\n",
            "287/287 [==============================] - 2s 5ms/step - loss: 0.0037\n",
            "Epoch 20/100\n",
            "287/287 [==============================] - 1s 5ms/step - loss: 0.0038\n",
            "Epoch 21/100\n",
            "287/287 [==============================] - 2s 5ms/step - loss: 0.0038\n",
            "Epoch 22/100\n",
            "287/287 [==============================] - 2s 5ms/step - loss: 0.0036\n",
            "Epoch 23/100\n",
            "287/287 [==============================] - 1s 5ms/step - loss: 0.0037\n",
            "Epoch 24/100\n",
            "287/287 [==============================] - 1s 5ms/step - loss: 0.0037\n",
            "Epoch 25/100\n",
            "287/287 [==============================] - 2s 6ms/step - loss: 0.0038\n",
            "Epoch 26/100\n",
            "287/287 [==============================] - 2s 7ms/step - loss: 0.0036\n",
            "Epoch 27/100\n",
            "287/287 [==============================] - 1s 5ms/step - loss: 0.0037\n",
            "Epoch 28/100\n",
            "287/287 [==============================] - 1s 5ms/step - loss: 0.0036\n",
            "Epoch 29/100\n",
            "287/287 [==============================] - 2s 5ms/step - loss: 0.0036\n",
            "Epoch 30/100\n",
            "287/287 [==============================] - 1s 5ms/step - loss: 0.0036\n",
            "Epoch 31/100\n",
            "287/287 [==============================] - 1s 5ms/step - loss: 0.0036\n",
            "Epoch 32/100\n",
            "287/287 [==============================] - 2s 5ms/step - loss: 0.0036\n",
            "Epoch 33/100\n",
            "287/287 [==============================] - 2s 6ms/step - loss: 0.0036\n",
            "Epoch 34/100\n",
            "287/287 [==============================] - 2s 6ms/step - loss: 0.0038\n",
            "Epoch 35/100\n",
            "287/287 [==============================] - 1s 5ms/step - loss: 0.0037\n",
            "Epoch 36/100\n",
            "287/287 [==============================] - 1s 5ms/step - loss: 0.0036\n",
            "Epoch 37/100\n",
            "287/287 [==============================] - 1s 5ms/step - loss: 0.0036\n",
            "Epoch 38/100\n",
            "287/287 [==============================] - 1s 5ms/step - loss: 0.0036\n",
            "Epoch 39/100\n",
            "287/287 [==============================] - 1s 5ms/step - loss: 0.0036\n",
            "Epoch 40/100\n",
            "287/287 [==============================] - 1s 5ms/step - loss: 0.0037\n",
            "Epoch 41/100\n",
            "287/287 [==============================] - 2s 7ms/step - loss: 0.0036\n",
            "Epoch 42/100\n",
            "287/287 [==============================] - 2s 6ms/step - loss: 0.0036\n",
            "Epoch 43/100\n",
            "287/287 [==============================] - 1s 5ms/step - loss: 0.0037\n",
            "Epoch 44/100\n",
            "287/287 [==============================] - 1s 5ms/step - loss: 0.0036\n",
            "Epoch 45/100\n",
            "287/287 [==============================] - 1s 5ms/step - loss: 0.0036\n",
            "Epoch 46/100\n",
            "287/287 [==============================] - 1s 5ms/step - loss: 0.0036\n",
            "Epoch 47/100\n",
            "287/287 [==============================] - 1s 5ms/step - loss: 0.0035\n",
            "Epoch 48/100\n",
            "287/287 [==============================] - 1s 5ms/step - loss: 0.0035\n",
            "Epoch 49/100\n",
            "287/287 [==============================] - 2s 7ms/step - loss: 0.0035\n",
            "Epoch 50/100\n",
            "287/287 [==============================] - 2s 5ms/step - loss: 0.0035\n",
            "Epoch 51/100\n",
            "287/287 [==============================] - 2s 5ms/step - loss: 0.0035\n",
            "Epoch 52/100\n",
            "287/287 [==============================] - 1s 5ms/step - loss: 0.0036\n",
            "Epoch 53/100\n",
            "287/287 [==============================] - 1s 5ms/step - loss: 0.0035\n",
            "Epoch 54/100\n",
            "287/287 [==============================] - 2s 5ms/step - loss: 0.0035\n",
            "Epoch 55/100\n",
            "287/287 [==============================] - 1s 5ms/step - loss: 0.0036\n",
            "Epoch 56/100\n",
            "287/287 [==============================] - 2s 6ms/step - loss: 0.0036\n",
            "Epoch 57/100\n",
            "287/287 [==============================] - 2s 7ms/step - loss: 0.0036\n",
            "Epoch 58/100\n",
            "287/287 [==============================] - 2s 5ms/step - loss: 0.0034\n",
            "Epoch 59/100\n",
            "287/287 [==============================] - 2s 5ms/step - loss: 0.0035\n",
            "Epoch 60/100\n",
            "287/287 [==============================] - 1s 5ms/step - loss: 0.0035\n",
            "Epoch 61/100\n",
            "287/287 [==============================] - 2s 5ms/step - loss: 0.0035\n",
            "Epoch 62/100\n",
            "287/287 [==============================] - 1s 5ms/step - loss: 0.0034\n",
            "Epoch 63/100\n",
            "287/287 [==============================] - 2s 5ms/step - loss: 0.0036\n",
            "Epoch 64/100\n",
            "287/287 [==============================] - 2s 6ms/step - loss: 0.0036\n",
            "Epoch 65/100\n",
            "287/287 [==============================] - 2s 6ms/step - loss: 0.0035\n",
            "Epoch 66/100\n",
            "287/287 [==============================] - 2s 7ms/step - loss: 0.0035\n",
            "Epoch 67/100\n",
            "287/287 [==============================] - 2s 8ms/step - loss: 0.0035\n",
            "Epoch 68/100\n",
            "287/287 [==============================] - 1s 5ms/step - loss: 0.0034\n",
            "Epoch 69/100\n",
            "287/287 [==============================] - 2s 5ms/step - loss: 0.0035\n",
            "Epoch 70/100\n",
            "287/287 [==============================] - 2s 5ms/step - loss: 0.0034\n",
            "Epoch 71/100\n",
            "287/287 [==============================] - 2s 7ms/step - loss: 0.0035\n",
            "Epoch 72/100\n",
            "287/287 [==============================] - 2s 6ms/step - loss: 0.0035\n",
            "Epoch 73/100\n",
            "287/287 [==============================] - 2s 5ms/step - loss: 0.0034\n",
            "Epoch 74/100\n",
            "287/287 [==============================] - 1s 5ms/step - loss: 0.0035\n",
            "Epoch 75/100\n",
            "287/287 [==============================] - 1s 5ms/step - loss: 0.0035\n",
            "Epoch 76/100\n",
            "287/287 [==============================] - 2s 5ms/step - loss: 0.0035\n",
            "Epoch 77/100\n",
            "287/287 [==============================] - 1s 5ms/step - loss: 0.0035\n",
            "Epoch 78/100\n",
            "287/287 [==============================] - 1s 5ms/step - loss: 0.0034\n",
            "Epoch 79/100\n",
            "287/287 [==============================] - 2s 7ms/step - loss: 0.0034\n",
            "Epoch 80/100\n",
            "287/287 [==============================] - 2s 6ms/step - loss: 0.0034\n",
            "Epoch 81/100\n",
            "287/287 [==============================] - 1s 5ms/step - loss: 0.0034\n",
            "Epoch 82/100\n",
            "287/287 [==============================] - 1s 5ms/step - loss: 0.0035\n",
            "Epoch 83/100\n",
            "287/287 [==============================] - 1s 5ms/step - loss: 0.0034\n",
            "Epoch 84/100\n",
            "287/287 [==============================] - 1s 5ms/step - loss: 0.0034\n",
            "Epoch 85/100\n",
            "287/287 [==============================] - 1s 5ms/step - loss: 0.0035\n",
            "Epoch 86/100\n",
            "287/287 [==============================] - 2s 5ms/step - loss: 0.0034\n",
            "Epoch 87/100\n",
            "287/287 [==============================] - 2s 7ms/step - loss: 0.0034\n",
            "Epoch 88/100\n",
            "287/287 [==============================] - 1s 5ms/step - loss: 0.0035\n",
            "Epoch 89/100\n",
            "287/287 [==============================] - 2s 5ms/step - loss: 0.0035\n",
            "Epoch 90/100\n",
            "287/287 [==============================] - 1s 5ms/step - loss: 0.0034\n",
            "Epoch 91/100\n",
            "287/287 [==============================] - 1s 5ms/step - loss: 0.0034\n",
            "Epoch 92/100\n",
            "287/287 [==============================] - 2s 6ms/step - loss: 0.0034\n",
            "Epoch 93/100\n",
            "287/287 [==============================] - 2s 6ms/step - loss: 0.0035\n",
            "Epoch 94/100\n",
            "287/287 [==============================] - 2s 7ms/step - loss: 0.0035\n",
            "Epoch 95/100\n",
            "287/287 [==============================] - 2s 6ms/step - loss: 0.0034\n",
            "Epoch 96/100\n",
            "287/287 [==============================] - 2s 5ms/step - loss: 0.0034\n",
            "Epoch 97/100\n",
            "287/287 [==============================] - 1s 5ms/step - loss: 0.0034\n",
            "Epoch 98/100\n",
            "287/287 [==============================] - 1s 5ms/step - loss: 0.0034\n",
            "Epoch 99/100\n",
            "287/287 [==============================] - 1s 5ms/step - loss: 0.0035\n",
            "Epoch 100/100\n",
            "287/287 [==============================] - 1s 5ms/step - loss: 0.0034\n"
          ]
        },
        {
          "output_type": "execute_result",
          "data": {
            "text/plain": [
              "<keras.callbacks.History at 0x7fd5bdf4edf0>"
            ]
          },
          "metadata": {},
          "execution_count": 71
        }
      ]
    },
    {
      "cell_type": "code",
      "source": [
        "X_test = np.reshape(X_test, (X_test.shape[0], X_test.shape[1], 1))\n",
        "\n",
        "predictions = regressor.predict(X_test)\n",
        "predictions = predictions.reshape(predictions.shape[0], predictions.shape[1])\n",
        "predictions = sc.inverse_transform(predictions)\n",
        "\n",
        "rmse = np.sqrt(np.mean(predictions - y_test)**2)\n",
        "rmse"
      ],
      "metadata": {
        "colab": {
          "base_uri": "https://localhost:8080/"
        },
        "id": "gO_Nr8x7Wq84",
        "outputId": "c690021a-a413-4caf-85f4-6cf7ed89e84f"
      },
      "execution_count": null,
      "outputs": [
        {
          "output_type": "stream",
          "name": "stdout",
          "text": [
            "38/38 [==============================] - 0s 3ms/step\n"
          ]
        },
        {
          "output_type": "execute_result",
          "data": {
            "text/plain": [
              "123.04300325782494"
            ]
          },
          "metadata": {},
          "execution_count": 72
        }
      ]
    },
    {
      "cell_type": "code",
      "source": [
        "real_adj_price = train_data.filter(['adj_close'])\n",
        "print(real_adj_price.shape)\n",
        "train = real_adj_price[:train_size]\n",
        "validate = real_adj_price[train_size:]\n",
        "\n",
        "print(train.shape)\n",
        "print(validate.shape)\n",
        "\n",
        "validate['Predictions'] = predictions\n",
        "plt.figure(figsize=(12,8))\n",
        "plt.title('Model')\n",
        "plt.xlabel('Date')\n",
        "plt.ylabel('Adjusted Close Price')\n",
        "plt.plot(train)\n",
        "plt.plot(validate[['adj_close', 'Predictions']])\n",
        "plt.legend(['Training', 'Validation', 'Predicted'])\n",
        "plt.show()"
      ],
      "metadata": {
        "colab": {
          "base_uri": "https://localhost:8080/",
          "height": 874
        },
        "id": "-dfsRC1rxvvH",
        "outputId": "1a56e3da-c383-4b66-f323-0e6e73d4cb60"
      },
      "execution_count": null,
      "outputs": [
        {
          "output_type": "stream",
          "name": "stdout",
          "text": [
            "(5787, 1)\n",
            "(4582, 1)\n",
            "(1205, 1)\n"
          ]
        },
        {
          "output_type": "stream",
          "name": "stderr",
          "text": [
            "<ipython-input-74-56a561249c1c>:9: SettingWithCopyWarning: \n",
            "A value is trying to be set on a copy of a slice from a DataFrame.\n",
            "Try using .loc[row_indexer,col_indexer] = value instead\n",
            "\n",
            "See the caveats in the documentation: https://pandas.pydata.org/pandas-docs/stable/user_guide/indexing.html#returning-a-view-versus-a-copy\n",
            "  validate['Predictions'] = predictions\n"
          ]
        },
        {
          "output_type": "display_data",
          "data": {
            "text/plain": [
              "<Figure size 1200x800 with 1 Axes>"
            ],
            "image/png": "[encoded data removed]"
          },
          "metadata": {}
        }
      ]
    }
  ]
}